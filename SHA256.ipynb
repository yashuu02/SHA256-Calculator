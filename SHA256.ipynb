{
 "cells": [
  {
   "cell_type": "code",
   "execution_count": 1,
   "id": "33408f2f-2f0d-4d1d-a8c4-61c96abdb5c1",
   "metadata": {},
   "outputs": [],
   "source": [
    "import tkinter as tk\n",
    "import hashlib\n",
    "\n",
    "def calculate_hash():\n",
    "    input_text = input_entry.get()\n",
    "    if input_text:\n",
    "        # Calculate SHA-256 hash\n",
    "        hashed_text = hashlib.sha256(input_text.encode()).hexdigest()\n",
    "        result_label.config(text=\"SHA-256 Hash:\\n\" + hashed_text)\n",
    "    else:\n",
    "        result_label.config(text=\"Please enter text to hash.\")\n",
    "\n",
    "# Main window\n",
    "root = tk.Tk()\n",
    "root.title(\"SHA-256 Hash Calculator\")\n",
    "root.configure(bg='light grey')\n",
    "\n",
    "# Input field\n",
    "input_label = tk.Label(root, text=\"Enter text:\", bg='light grey')\n",
    "input_label.pack(pady=5)\n",
    "input_entry = tk.Entry(root, width=40)\n",
    "input_entry.pack(pady=5)\n",
    "\n",
    "# Calculate button\n",
    "calculate_button = tk.Button(root, text=\"Calculate Hash\", command=calculate_hash)\n",
    "calculate_button.pack(pady=10)\n",
    "\n",
    "# Result label\n",
    "result_label = tk.Label(root, text=\"\", bg='light grey')\n",
    "result_label.pack(pady=5)\n",
    "\n",
    "# Start the GUI event loop\n",
    "root.mainloop()\n"
   ]
  },
  {
   "cell_type": "code",
   "execution_count": null,
   "id": "3d68eb06-b1ca-4018-9a88-2f4dd48330c6",
   "metadata": {},
   "outputs": [],
   "source": []
  }
 ],
 "metadata": {
  "kernelspec": {
   "display_name": "Python 3 (ipykernel)",
   "language": "python",
   "name": "python3"
  },
  "language_info": {
   "codemirror_mode": {
    "name": "ipython",
    "version": 3
   },
   "file_extension": ".py",
   "mimetype": "text/x-python",
   "name": "python",
   "nbconvert_exporter": "python",
   "pygments_lexer": "ipython3",
   "version": "3.11.3"
  }
 },
 "nbformat": 4,
 "nbformat_minor": 5
}
